{
  "nbformat": 4,
  "nbformat_minor": 0,
  "metadata": {
    "colab": {
      "provenance": [],
      "authorship_tag": "ABX9TyMWp1glbv2Q10ZWcfPLQPEi",
      "include_colab_link": true
    },
    "kernelspec": {
      "name": "ir",
      "display_name": "R"
    },
    "language_info": {
      "name": "R"
    }
  },
  "cells": [
    {
      "cell_type": "markdown",
      "metadata": {
        "id": "view-in-github",
        "colab_type": "text"
      },
      "source": [
        "<a href=\"https://colab.research.google.com/github/MrSaurabh0028/Bca-data-science-projects/blob/main/R_language_r.ipynb\" target=\"_parent\"><img src=\"https://colab.research.google.com/assets/colab-badge.svg\" alt=\"Open In Colab\"/></a>"
      ]
    },
    {
      "cell_type": "markdown",
      "source": [
        "R Languages"
      ],
      "metadata": {
        "id": "lblIig0IvaTc"
      }
    },
    {
      "cell_type": "code",
      "execution_count": null,
      "metadata": {
        "colab": {
          "base_uri": "https://localhost:8080/"
        },
        "id": "rbeATeHpswrI",
        "outputId": "9c9a8b41-e3cb-47f6-9917-90196a3280ca"
      },
      "outputs": [
        {
          "output_type": "stream",
          "name": "stdout",
          "text": [
            "[1] \"Hello\"\n",
            "[1] \"How are\"\n",
            "you \n",
            "sum is: 30 \n",
            "muti is: 100Enter first number:4\n",
            "Enter second number:5\n",
            "total multiply: 20"
          ]
        }
      ],
      "source": [
        "print(\"Hello\")\n",
        "x<-\"How are\"\n",
        "print(x)\n",
        "cat(\"you\",\"\\n\")\n",
        "# addition\n",
        "x<-10\n",
        "y<-20\n",
        "cat(\"sum is:\",x+y,\"\\n\")\n",
        "#muti\n",
        "a<-20\n",
        "b<-5\n",
        "cat(\"muti is:\",a*b)\n",
        "#User-define\n",
        "a<-as.numeric(readline(\"Enter first number:\"))\n",
        "b<-as.numeric(readline(\"Enter second number:\"))\n",
        "cat(\"total multiply:\",a*b)"
      ]
    },
    {
      "cell_type": "markdown",
      "source": [
        " **1) if and else statements**"
      ],
      "metadata": {
        "id": "wdrrEULt0GHT"
      }
    },
    {
      "cell_type": "code",
      "source": [
        "a<-100\n",
        "b<-52\n",
        "if(a>b){\n",
        " cat(a,\"is greater.\")\n",
        "}else{\n",
        "cat(b,\"is greater.\")\n",
        "}\n",
        "#user define\n",
        "cat(\"\\n\")\n",
        "a<-as.numeric(readline(\"Enter first number:\"))\n",
        "b<-as.numeric(readline(\"Enter second number:\"))\n",
        "if(a>b){\n",
        "  cat(a,\"is greater.\")\n",
        "}else if(a==b){\n",
        "  cat(\"both are qural.\")\n",
        "}else{\n",
        "  cat(b,\"is grater.\")\n",
        "}"
      ],
      "metadata": {
        "colab": {
          "base_uri": "https://localhost:8080/"
        },
        "id": "D9RFV688z5gZ",
        "outputId": "39711ec8-909c-47c2-cae8-691403586bf5"
      },
      "execution_count": null,
      "outputs": [
        {
          "output_type": "stream",
          "name": "stdout",
          "text": [
            "100 is greater.\n",
            "Enter first number:20\n",
            "Enter second number:20\n",
            "both are qural."
          ]
        }
      ]
    },
    {
      "cell_type": "code",
      "source": [
        "#3 user input\n",
        "a<-as.numeric(readline(\"Enter first number:\"))\n",
        "b<-as.numeric(readline(\"Enter second number:\"))\n",
        "c<-as.numeric(readline(\"Enter third number:\"))\n",
        "if(a>b && a>c){\n",
        "  cat(a,\"is greater.\")\n",
        "}else if(b>a && b>c){\n",
        "  cat(b,\"is greater.\")\n",
        "}else if(a==b && b==c && c==a){\n",
        "  cat(\"all are equal.\")\n",
        "}else{\n",
        "  cat(c,\"is greater.\")\n",
        "}"
      ],
      "metadata": {
        "colab": {
          "base_uri": "https://localhost:8080/"
        },
        "id": "POj6YjBZ87ol",
        "outputId": "60d7b93e-3b9c-4024-99f7-522cab20393c"
      },
      "execution_count": null,
      "outputs": [
        {
          "output_type": "stream",
          "name": "stdout",
          "text": [
            "Enter first number:2\n",
            "Enter second number:2\n",
            "Enter third number:2\n",
            "all are equal."
          ]
        }
      ]
    },
    {
      "cell_type": "code",
      "source": [
        "# positive aur negative number\n",
        "a<--20\n",
        "if(a>0){\n",
        "  cat(a,\"is positive number.\")\n",
        "}else{\n",
        "  cat(a,\"is negative number.\")\n",
        "}\n",
        "#user input\n",
        "cat(\"\\n\")\n",
        "first<-as.numeric(readline(\"Enter a number:\"))\n",
        "if(first>0){\n",
        "  cat(first,\"is positive number.\")\n",
        "}else if(first==0){\n",
        "  cat(first,\"is not positive or negative number.\")\n",
        "}else{\n",
        "  cat(first,\"is negative number.\")\n",
        "}"
      ],
      "metadata": {
        "colab": {
          "base_uri": "https://localhost:8080/"
        },
        "id": "xM91xaUs2Y33",
        "outputId": "5c5e604d-efad-4543-fdff-44dd26d07a33"
      },
      "execution_count": null,
      "outputs": [
        {
          "output_type": "stream",
          "name": "stdout",
          "text": [
            "-20 is negative number.\n",
            "Enter a number:0\n",
            "0 is not positive or negative number."
          ]
        }
      ]
    },
    {
      "cell_type": "code",
      "source": [
        "#student matrks (If else)\n",
        "std<-as.numeric(readline(\"Enter your marks 1 to 100:\"))\n",
        "if(std>100){\n",
        "  cat(\"invalid number.\")\n",
        "}else if(std>=85){\n",
        " cat(\"Grade: A\")\n",
        "}else if(std>=75){\n",
        "  cat(\"Grade B.\")\n",
        "}else if(std>=65){\n",
        "  cat(\"grade c.\")\n",
        "}else if(std>=1){\n",
        "  cat(\"fail.\")\n",
        "}"
      ],
      "metadata": {
        "colab": {
          "base_uri": "https://localhost:8080/"
        },
        "id": "cDo03lh859K_",
        "outputId": "56b11ad4-63b5-487f-827f-6fdd8f53db33"
      },
      "execution_count": 2,
      "outputs": [
        {
          "output_type": "stream",
          "name": "stdout",
          "text": [
            "Enter your marks 1 to 100:85\n",
            "Grade: A"
          ]
        }
      ]
    },
    {
      "cell_type": "code",
      "source": [
        "# ager related (if else)\n",
        "age<-as.numeric(readline(\"Enter age between 0 to 85:\"))\n",
        "if(age>85){\n",
        "  cat(\"invalid age.\")\n",
        "}else if(age>=60){\n",
        "  cat(\"Senior Citizen.\")\n",
        "}else if(age>=20){\n",
        "  cat(\"Adult.\")\n",
        "}else if(age>=13){\n",
        "  cat(\"Teen age.\")\n",
        "}else{\n",
        "  cat(\"child.\")\n",
        "}"
      ],
      "metadata": {
        "colab": {
          "base_uri": "https://localhost:8080/"
        },
        "id": "ad5TQshgwoAK",
        "outputId": "d4585107-c48d-476b-b1ea-2adc459661b8"
      },
      "execution_count": 13,
      "outputs": [
        {
          "output_type": "stream",
          "name": "stdout",
          "text": [
            "Enter age between 0 to 85:86\n",
            "invalid age."
          ]
        }
      ]
    },
    {
      "cell_type": "code",
      "source": [
        "#check even number and it divisible by 5.\n",
        "a<-as.numeric(readline(\"Enter a number:\"))\n",
        "if(a%%2==0){\n",
        "  cat(\"even number.\",\"\\n\")\n",
        "   if(a%%5==0){\n",
        "    cat(\"divisible by 5.\")\n",
        "   }else{\n",
        "    cat(\"not divisibl by 5.\")\n",
        "   }\n",
        "}else{\n",
        "  cat(\"odd number\")\n",
        "}"
      ],
      "metadata": {
        "colab": {
          "base_uri": "https://localhost:8080/"
        },
        "id": "RT2kvQK60UNE",
        "outputId": "21753595-cfb6-452b-e68d-3f408bf8344b"
      },
      "execution_count": 53,
      "outputs": [
        {
          "output_type": "stream",
          "name": "stdout",
          "text": [
            "Enter a number:420\n",
            "even number. \n",
            "divisible by 5."
          ]
        }
      ]
    },
    {
      "cell_type": "markdown",
      "source": [
        "***For Loop***"
      ],
      "metadata": {
        "id": "aLwhcevN922c"
      }
    },
    {
      "cell_type": "code",
      "source": [
        "#print 1 to 10(for loop)\n",
        "for(i in 1:10)\n",
        "cat(i,\"\\n\")\n",
        "# Even or odd number using(for loop)\n",
        "for(i in 1:50){\n",
        " if(i%%2==0){\n",
        "  cat(i,\"even number\",\"\\n\")\n",
        " }else{\n",
        "  cat(i,\"odd number.\")\n",
        " }\n",
        "}"
      ],
      "metadata": {
        "colab": {
          "base_uri": "https://localhost:8080/"
        },
        "collapsed": true,
        "id": "WWO-POao92Ec",
        "outputId": "ce07ba21-dbbc-4f5d-fb2b-20960468c063"
      },
      "execution_count": 91,
      "outputs": [
        {
          "output_type": "stream",
          "name": "stdout",
          "text": [
            "1 odd number.2 even number \n",
            "3 odd number.4 even number \n",
            "5 odd number.6 even number \n",
            "7 odd number.8 even number \n",
            "9 odd number.10 even number \n",
            "11 odd number.12 even number \n",
            "13 odd number.14 even number \n",
            "15 odd number.16 even number \n",
            "17 odd number.18 even number \n",
            "19 odd number.20 even number \n",
            "21 odd number.22 even number \n",
            "23 odd number.24 even number \n",
            "25 odd number.26 even number \n",
            "27 odd number.28 even number \n",
            "29 odd number.30 even number \n",
            "31 odd number.32 even number \n",
            "33 odd number.34 even number \n",
            "35 odd number.36 even number \n",
            "37 odd number.38 even number \n",
            "39 odd number.40 even number \n",
            "41 odd number.42 even number \n",
            "43 odd number.44 even number \n",
            "45 odd number.46 even number \n",
            "47 odd number.48 even number \n",
            "49 odd number.50 even number \n"
          ]
        }
      ]
    },
    {
      "cell_type": "code",
      "source": [
        "#print 1 to 10 and their sum.\n",
        "sum<-0\n",
        "for(i in(1:10)){\n",
        "  sum<-sum+i\n",
        "}\n",
        "cat(\"total sum is:\",sum)    # total print lop ke bahar aana padta haiii."
      ],
      "metadata": {
        "colab": {
          "base_uri": "https://localhost:8080/"
        },
        "id": "VELUSNjdEWo8",
        "outputId": "11dca23c-7350-4f31-a9d6-918f5314c083"
      },
      "execution_count": 103,
      "outputs": [
        {
          "output_type": "stream",
          "name": "stdout",
          "text": [
            "total sum is: 55"
          ]
        }
      ]
    },
    {
      "cell_type": "code",
      "source": [
        "#factorial number.\n",
        "fact<-1\n",
        "a<-as.numeric(readline(\"Enter a number:\"))\n",
        "for(i in(1:a)){\n",
        " fact<-fact*i\n",
        "}\n",
        "cat(\"total factotial is:\",fact)"
      ],
      "metadata": {
        "colab": {
          "base_uri": "https://localhost:8080/"
        },
        "id": "-KrRQUCXIZH0",
        "outputId": "801b4c00-a2fb-4827-97c7-c3f047b05a19"
      },
      "execution_count": 119,
      "outputs": [
        {
          "output_type": "stream",
          "name": "stdout",
          "text": [
            "Enter a number:5\n",
            "total factotial is: 120"
          ]
        }
      ]
    },
    {
      "cell_type": "code",
      "source": [
        "a<-as.numeric(readline(\"Enter a number:\"))\n",
        "b<-count_digits(a)\n",
        "cat(b)"
      ],
      "metadata": {
        "colab": {
          "base_uri": "https://localhost:8080/",
          "height": 91
        },
        "id": "X84KTilpoxaA",
        "outputId": "df3c7f85-ecf5-409f-df11-57085e8385d6"
      },
      "execution_count": 5,
      "outputs": [
        {
          "name": "stdout",
          "output_type": "stream",
          "text": [
            "Enter a number:1245\n"
          ]
        },
        {
          "output_type": "error",
          "ename": "ERROR",
          "evalue": "Error in count_digits(a): could not find function \"count_digits\"\n",
          "traceback": [
            "Error in count_digits(a): could not find function \"count_digits\"\nTraceback:\n"
          ]
        }
      ]
    }
  ]
}