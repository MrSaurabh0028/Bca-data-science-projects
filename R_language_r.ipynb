{
  "nbformat": 4,
  "nbformat_minor": 0,
  "metadata": {
    "colab": {
      "provenance": [],
      "authorship_tag": "ABX9TyOx6c4R45eYW+dE3QxuAABE",
      "include_colab_link": true
    },
    "kernelspec": {
      "name": "ir",
      "display_name": "R"
    },
    "language_info": {
      "name": "R"
    }
  },
  "cells": [
    {
      "cell_type": "markdown",
      "metadata": {
        "id": "view-in-github",
        "colab_type": "text"
      },
      "source": [
        "<a href=\"https://colab.research.google.com/github/MrSaurabh0028/Bca-data-science-projects/blob/main/R_language_r.ipynb\" target=\"_parent\"><img src=\"https://colab.research.google.com/assets/colab-badge.svg\" alt=\"Open In Colab\"/></a>"
      ]
    },
    {
      "cell_type": "markdown",
      "source": [
        "R Languages"
      ],
      "metadata": {
        "id": "lblIig0IvaTc"
      }
    },
    {
      "cell_type": "code",
      "execution_count": null,
      "metadata": {
        "colab": {
          "base_uri": "https://localhost:8080/"
        },
        "id": "rbeATeHpswrI",
        "outputId": "9c9a8b41-e3cb-47f6-9917-90196a3280ca"
      },
      "outputs": [
        {
          "output_type": "stream",
          "name": "stdout",
          "text": [
            "[1] \"Hello\"\n",
            "[1] \"How are\"\n",
            "you \n",
            "sum is: 30 \n",
            "muti is: 100Enter first number:4\n",
            "Enter second number:5\n",
            "total multiply: 20"
          ]
        }
      ],
      "source": [
        "#simple program for R language.\n",
        "print(\"Hello\")\n",
        "x<-\"How are\"\n",
        "print(x)\n",
        "cat(\"you\",\"\\n\")\n",
        "# addition\n",
        "x<-10\n",
        "y<-20\n",
        "cat(\"sum is:\",x+y,\"\\n\")\n",
        "#muti\n",
        "a<-20\n",
        "b<-5\n",
        "cat(\"muti is:\",a*b)\n",
        "#User-define\n",
        "a<-as.numeric(readline(\"Enter first number:\"))\n",
        "b<-as.numeric(readline(\"Enter second number:\"))\n",
        "cat(\"total multiply:\",a*b)"
      ]
    },
    {
      "cell_type": "markdown",
      "source": [
        " **1) if and else statements**"
      ],
      "metadata": {
        "id": "wdrrEULt0GHT"
      }
    },
    {
      "cell_type": "code",
      "source": [
        "a<-100\n",
        "b<-52\n",
        "if(a>b){\n",
        " cat(a,\"is greater.\")\n",
        "}else{\n",
        "cat(b,\"is greater.\")\n",
        "}\n",
        "#user define\n",
        "cat(\"\\n\")\n",
        "a<-as.numeric(readline(\"Enter first number:\"))\n",
        "b<-as.numeric(readline(\"Enter second number:\"))\n",
        "if(a>b){\n",
        "  cat(a,\"is greater.\")\n",
        "}else if(a==b){\n",
        "  cat(\"both are qural.\")\n",
        "}else{\n",
        "  cat(b,\"is grater.\")\n",
        "}"
      ],
      "metadata": {
        "colab": {
          "base_uri": "https://localhost:8080/"
        },
        "id": "D9RFV688z5gZ",
        "outputId": "39711ec8-909c-47c2-cae8-691403586bf5"
      },
      "execution_count": null,
      "outputs": [
        {
          "output_type": "stream",
          "name": "stdout",
          "text": [
            "100 is greater.\n",
            "Enter first number:20\n",
            "Enter second number:20\n",
            "both are qural."
          ]
        }
      ]
    },
    {
      "cell_type": "code",
      "source": [
        "#3 user input\n",
        "a<-as.numeric(readline(\"Enter first number:\"))\n",
        "b<-as.numeric(readline(\"Enter second number:\"))\n",
        "c<-as.numeric(readline(\"Enter third number:\"))\n",
        "if(a>b && a>c){\n",
        "  cat(a,\"is greater.\")\n",
        "}else if(b>a && b>c){\n",
        "  cat(b,\"is greater.\")\n",
        "}else if(a==b && b==c && c==a){\n",
        "  cat(\"all are equal.\")\n",
        "}else{\n",
        "  cat(c,\"is greater.\")\n",
        "}"
      ],
      "metadata": {
        "colab": {
          "base_uri": "https://localhost:8080/"
        },
        "id": "POj6YjBZ87ol",
        "outputId": "60d7b93e-3b9c-4024-99f7-522cab20393c"
      },
      "execution_count": null,
      "outputs": [
        {
          "output_type": "stream",
          "name": "stdout",
          "text": [
            "Enter first number:2\n",
            "Enter second number:2\n",
            "Enter third number:2\n",
            "all are equal."
          ]
        }
      ]
    },
    {
      "cell_type": "code",
      "source": [
        "# positive aur negative number\n",
        "a<--20\n",
        "if(a>0){\n",
        "  cat(a,\"is positive number.\")\n",
        "}else{\n",
        "  cat(a,\"is negative number.\")\n",
        "}\n",
        "#user input\n",
        "cat(\"\\n\")\n",
        "first<-as.numeric(readline(\"Enter a number:\"))\n",
        "if(first>0){\n",
        "  cat(first,\"is positive number.\")\n",
        "}else if(first==0){\n",
        "  cat(first,\"is not positive or negative number.\")\n",
        "}else{\n",
        "  cat(first,\"is negative number.\")\n",
        "}"
      ],
      "metadata": {
        "colab": {
          "base_uri": "https://localhost:8080/"
        },
        "id": "xM91xaUs2Y33",
        "outputId": "5c5e604d-efad-4543-fdff-44dd26d07a33"
      },
      "execution_count": null,
      "outputs": [
        {
          "output_type": "stream",
          "name": "stdout",
          "text": [
            "-20 is negative number.\n",
            "Enter a number:0\n",
            "0 is not positive or negative number."
          ]
        }
      ]
    },
    {
      "cell_type": "code",
      "source": [
        "#student matrks (If else)\n",
        "std<-as.numeric(readline(\"Enter your marks 1 to 100:\"))\n",
        "if(std>100){\n",
        "  cat(\"invalid number.\")\n",
        "}else if(std>=85){\n",
        " cat(\"Grade: A\")\n",
        "}else if(std>=75){\n",
        "  cat(\"Grade B.\")\n",
        "}else if(std>=65){\n",
        "  cat(\"grade c.\")\n",
        "}else if(std>=1){\n",
        "  cat(\"fail.\")\n",
        "}"
      ],
      "metadata": {
        "colab": {
          "base_uri": "https://localhost:8080/"
        },
        "id": "cDo03lh859K_",
        "outputId": "56b11ad4-63b5-487f-827f-6fdd8f53db33"
      },
      "execution_count": null,
      "outputs": [
        {
          "output_type": "stream",
          "name": "stdout",
          "text": [
            "Enter your marks 1 to 100:85\n",
            "Grade: A"
          ]
        }
      ]
    },
    {
      "cell_type": "code",
      "source": [
        "# ager related (if else)\n",
        "age<-as.numeric(readline(\"Enter age between 0 to 85:\"))\n",
        "if(age>85){\n",
        "  cat(\"invalid age.\")\n",
        "}else if(age>=60){\n",
        "  cat(\"Senior Citizen.\")\n",
        "}else if(age>=20){\n",
        "  cat(\"Adult.\")\n",
        "}else if(age>=13){\n",
        "  cat(\"Teen age.\")\n",
        "}else{\n",
        "  cat(\"child.\")\n",
        "}"
      ],
      "metadata": {
        "colab": {
          "base_uri": "https://localhost:8080/"
        },
        "id": "ad5TQshgwoAK",
        "outputId": "d4585107-c48d-476b-b1ea-2adc459661b8"
      },
      "execution_count": null,
      "outputs": [
        {
          "output_type": "stream",
          "name": "stdout",
          "text": [
            "Enter age between 0 to 85:86\n",
            "invalid age."
          ]
        }
      ]
    },
    {
      "cell_type": "code",
      "source": [
        "#check even number and it divisible by 5.\n",
        "a<-as.numeric(readline(\"Enter a number:\"))\n",
        "if(a%%2==0){\n",
        "  cat(\"even number.\",\"\\n\")\n",
        "   if(a%%5==0){\n",
        "    cat(\"divisible by 5.\")\n",
        "   }else{\n",
        "    cat(\"not divisibl by 5.\")\n",
        "   }\n",
        "}else{\n",
        "  cat(\"odd number\")\n",
        "}"
      ],
      "metadata": {
        "colab": {
          "base_uri": "https://localhost:8080/"
        },
        "id": "RT2kvQK60UNE",
        "outputId": "21753595-cfb6-452b-e68d-3f408bf8344b"
      },
      "execution_count": null,
      "outputs": [
        {
          "output_type": "stream",
          "name": "stdout",
          "text": [
            "Enter a number:420\n",
            "even number. \n",
            "divisible by 5."
          ]
        }
      ]
    },
    {
      "cell_type": "markdown",
      "source": [
        "***For Loop***"
      ],
      "metadata": {
        "id": "aLwhcevN922c"
      }
    },
    {
      "cell_type": "code",
      "source": [
        "#print 1 to 10(for loop)\n",
        "for(i in 1:10)\n",
        "cat(i,\"\\n\")\n",
        "# Even or odd number using(for loop)\n",
        "for(i in 1:50){\n",
        " if(i%%2==0){\n",
        "  cat(i,\"even number\",\"\\n\")\n",
        " }else{\n",
        "  cat(i,\"odd number.\")\n",
        " }\n",
        "}"
      ],
      "metadata": {
        "colab": {
          "base_uri": "https://localhost:8080/"
        },
        "collapsed": true,
        "id": "WWO-POao92Ec",
        "outputId": "ce07ba21-dbbc-4f5d-fb2b-20960468c063"
      },
      "execution_count": null,
      "outputs": [
        {
          "output_type": "stream",
          "name": "stdout",
          "text": [
            "1 odd number.2 even number \n",
            "3 odd number.4 even number \n",
            "5 odd number.6 even number \n",
            "7 odd number.8 even number \n",
            "9 odd number.10 even number \n",
            "11 odd number.12 even number \n",
            "13 odd number.14 even number \n",
            "15 odd number.16 even number \n",
            "17 odd number.18 even number \n",
            "19 odd number.20 even number \n",
            "21 odd number.22 even number \n",
            "23 odd number.24 even number \n",
            "25 odd number.26 even number \n",
            "27 odd number.28 even number \n",
            "29 odd number.30 even number \n",
            "31 odd number.32 even number \n",
            "33 odd number.34 even number \n",
            "35 odd number.36 even number \n",
            "37 odd number.38 even number \n",
            "39 odd number.40 even number \n",
            "41 odd number.42 even number \n",
            "43 odd number.44 even number \n",
            "45 odd number.46 even number \n",
            "47 odd number.48 even number \n",
            "49 odd number.50 even number \n"
          ]
        }
      ]
    },
    {
      "cell_type": "code",
      "source": [
        "#print 1 to 10 and their sum.\n",
        "sum<-0\n",
        "for(i in(1:10)){\n",
        "  sum<-sum+i\n",
        "}\n",
        "cat(\"total sum is:\",sum)    # total print lop ke bahar aana padta haiii."
      ],
      "metadata": {
        "colab": {
          "base_uri": "https://localhost:8080/"
        },
        "id": "VELUSNjdEWo8",
        "outputId": "11dca23c-7350-4f31-a9d6-918f5314c083"
      },
      "execution_count": null,
      "outputs": [
        {
          "output_type": "stream",
          "name": "stdout",
          "text": [
            "total sum is: 55"
          ]
        }
      ]
    },
    {
      "cell_type": "code",
      "source": [
        "#factorial number.\n",
        "fact<-1\n",
        "a<-as.numeric(readline(\"Enter a number:\"))\n",
        "for(i in(1:a)){\n",
        " fact<-fact*i\n",
        "}\n",
        "cat(\"total factotial is:\",fact)"
      ],
      "metadata": {
        "colab": {
          "base_uri": "https://localhost:8080/"
        },
        "id": "-KrRQUCXIZH0",
        "outputId": "801b4c00-a2fb-4827-97c7-c3f047b05a19"
      },
      "execution_count": null,
      "outputs": [
        {
          "output_type": "stream",
          "name": "stdout",
          "text": [
            "Enter a number:5\n",
            "total factotial is: 120"
          ]
        }
      ]
    },
    {
      "cell_type": "code",
      "source": [
        "num <- as.numeric(readline(\"Enter a positive number: \"))\n",
        "\n",
        "# Initialize variables\n",
        "count <- 0\n",
        "sum <- 0\n",
        "reverse <- 0\n",
        "temp <- num\n",
        "\n",
        "while(temp > 0){\n",
        "  digit <- temp %% 10                           # extract last digit\n",
        "  sum <- sum + digit                            # add to sum\n",
        "  reverse <- reverse * 10 + digit               # build reverse\n",
        "  count <- count + 1                            # count digits\n",
        "  temp <- temp %/% 10                           # remove last digit\n",
        "}\n",
        "\n",
        "cat(\"Digits count:\", count, \"\\n\")\n",
        "cat(\"Sum of digits:\", sum, \"\\n\")\n",
        "cat(\"Reverse of number:\", reverse, \"\\n\")\n"
      ],
      "metadata": {
        "colab": {
          "base_uri": "https://localhost:8080/"
        },
        "id": "X84KTilpoxaA",
        "outputId": "46d0df9f-1ea5-4fed-87b8-ba1ce5e5b728"
      },
      "execution_count": null,
      "outputs": [
        {
          "output_type": "stream",
          "name": "stdout",
          "text": [
            "Enter a positive number: 52\n",
            "Digits count: 2 \n",
            "Sum of digits: 7 \n",
            "Reverse of number: 25 \n"
          ]
        }
      ]
    },
    {
      "cell_type": "markdown",
      "source": [
        "***Arrays ***\n",
        "arrays are the data objects which allow us to store data in more than two dimension."
      ],
      "metadata": {
        "id": "8iciQPwbBK9F"
      }
    },
    {
      "cell_type": "code",
      "source": [
        "a <- array(1:20, dim = c(2, 3, 2))\n",
        "cat(a)           #Linear or simple output.\n",
        "b<-array(1:20,dim=c(2,3,2)) #dim=c(2=row,3=col,2=page/box),c = vactor\n",
        "print(b)           # Multi-dimension structured.\n",
        "c<-array(1:11,dim=c(2,4,2))\n",
        "print(c)"
      ],
      "metadata": {
        "colab": {
          "base_uri": "https://localhost:8080/"
        },
        "id": "n1inb3g6BJXx",
        "outputId": "1f3072a3-d035-4312-93e7-17563044de16"
      },
      "execution_count": null,
      "outputs": [
        {
          "output_type": "stream",
          "name": "stdout",
          "text": [
            "1 2 3 4 5 6 7 8 9 10 11 12, , 1\n",
            "\n",
            "     [,1] [,2] [,3]\n",
            "[1,]    1    3    5\n",
            "[2,]    2    4    6\n",
            "\n",
            ", , 2\n",
            "\n",
            "     [,1] [,2] [,3]\n",
            "[1,]    7    9   11\n",
            "[2,]    8   10   12\n",
            "\n",
            ", , 1\n",
            "\n",
            "     [,1] [,2] [,3] [,4]\n",
            "[1,]    1    3    5    7\n",
            "[2,]    2    4    6    8\n",
            "\n",
            ", , 2\n",
            "\n",
            "     [,1] [,2] [,3] [,4]\n",
            "[1,]    9   11    2    4\n",
            "[2,]   10    1    3    5\n",
            "\n"
          ]
        }
      ]
    },
    {
      "cell_type": "markdown",
      "source": [
        "***Matrix***"
      ],
      "metadata": {
        "id": "YnZ03rBCI3SP"
      }
    },
    {
      "cell_type": "code",
      "source": [
        "a<-matrix(c(40,50,60,70,80,90,20,30,50),nrow=3,ncol=3)\n",
        "print(a)\n",
        "cat(\"second row:\",a[2, ],\"\\n\")\n",
        "cat(\"third col:\",a[ ,3],\"\\n\")\n",
        "cat(\"first col of third elements:\",a[1,3])"
      ],
      "metadata": {
        "colab": {
          "base_uri": "https://localhost:8080/"
        },
        "id": "FENRh-bNI2_Q",
        "outputId": "e3e8b714-d25a-407a-f222-fd7383806049"
      },
      "execution_count": null,
      "outputs": [
        {
          "output_type": "stream",
          "name": "stdout",
          "text": [
            "     [,1] [,2] [,3]\n",
            "[1,]   40   70   20\n",
            "[2,]   50   80   30\n",
            "[3,]   60   90   50\n",
            "second row: 50 80 30 \n",
            "third col: 20 30 50 \n",
            "first col of third elements: 20"
          ]
        }
      ]
    },
    {
      "cell_type": "code",
      "source": [
        "fruit<-factor(c(\"apple\",\"mango\",\"grapes\",\"mango\",\"apple\",\"banana\",\"apple\",\"banana\"))\n",
        "cat(fruit,\"\\n\")    #show indexing.\n",
        "print(fruit)  # show level of factor."
      ],
      "metadata": {
        "colab": {
          "base_uri": "https://localhost:8080/"
        },
        "id": "Su97x2c4Okz1",
        "outputId": "8e806583-2500-4501-8480-2ef40d36e3bb"
      },
      "execution_count": null,
      "outputs": [
        {
          "output_type": "stream",
          "name": "stdout",
          "text": [
            "1 4 3 4 1 2 1 2 \n",
            "[1] apple  mango  grapes mango  apple  banana apple  banana\n",
            "Levels: apple banana grapes mango\n"
          ]
        }
      ]
    },
    {
      "cell_type": "markdown",
      "source": [
        "***Function***\n",
        "\n",
        ".....piece of code that is used again and again."
      ],
      "metadata": {
        "id": "Ab7s61_1RMhj"
      }
    },
    {
      "cell_type": "code",
      "source": [
        "fun<-function(){   # function ka name and function()key word.but (py)me (def)\n",
        "  for (i in 1:5){\n",
        "    cat(\"i am learnin function\",\"\\n\")\n",
        "  }\n",
        "}\n",
        "fun()"
      ],
      "metadata": {
        "colab": {
          "base_uri": "https://localhost:8080/"
        },
        "id": "0iZj9DXVRKkn",
        "outputId": "9c11877d-d9e6-478a-d0d0-d1e4869ec1f2"
      },
      "execution_count": null,
      "outputs": [
        {
          "output_type": "stream",
          "name": "stdout",
          "text": [
            "i am learnin function \n",
            "i am learnin function \n",
            "i am learnin function \n",
            "i am learnin function \n",
            "i am learnin function \n"
          ]
        }
      ]
    },
    {
      "cell_type": "code",
      "source": [
        "# function with parameter(square number)\n",
        "fun<-function(a){\n",
        "  cat(\"square is:\",a^2)\n",
        "}\n",
        "\n",
        "a<-as.numeric(readline(\"Enter a number:\"))\n",
        "fun(a)"
      ],
      "metadata": {
        "colab": {
          "base_uri": "https://localhost:8080/"
        },
        "id": "5IgCTMRwWFWC",
        "outputId": "6ad7192c-a4a2-4751-e6bb-82131bcafce3"
      },
      "execution_count": null,
      "outputs": [
        {
          "output_type": "stream",
          "name": "stdout",
          "text": [
            "Enter a number:5\n",
            "square is: 25"
          ]
        }
      ]
    },
    {
      "cell_type": "code",
      "source": [
        "fun<-function(a){\n",
        "  if(a>=0){\n",
        "    cat(a,\"is positive number.\",\"\\n\")\n",
        "      if(a%%2==0){\n",
        "        cat(a,\"even number.\")\n",
        "      }else{\n",
        "        cat(a,\"odd number.\")\n",
        "      }\n",
        "  }else{\n",
        "    cat(a,\"is negative number.\")\n",
        "  }\n",
        "}\n",
        "a<-as.numeric(readline(\"Enter a number:\"))\n",
        "fun(a)"
      ],
      "metadata": {
        "colab": {
          "base_uri": "https://localhost:8080/"
        },
        "id": "mkKr1EXpgFrG",
        "outputId": "e1aa5e91-6060-4b0c-d3b9-c0a9686b5441"
      },
      "execution_count": null,
      "outputs": [
        {
          "output_type": "stream",
          "name": "stdout",
          "text": [
            "Enter a number:45\n",
            "45 is positive number. \n",
            "45 odd number."
          ]
        }
      ]
    },
    {
      "cell_type": "code",
      "source": [
        "# grade a,b,c,b,d\n",
        "fun<-function(a){\n",
        "  if(a>=85){\n",
        "    cat(\"grade A.\")\n",
        "  }else if(a>=75){\n",
        "    cat(\"grade B.\")\n",
        "  }else if(a>=65){\n",
        "    cat(\"Grade C\")\n",
        "  }else{\n",
        "    cat(\"Fail\")\n",
        "  }\n",
        "}\n",
        "a<-as.numeric(readline(\"Enter a number:\"))\n",
        "fun(a)"
      ],
      "metadata": {
        "colab": {
          "base_uri": "https://localhost:8080/"
        },
        "id": "QJ95i0iNgPkn",
        "outputId": "e17cee83-8334-4c05-c4c2-6b2d35071c54"
      },
      "execution_count": null,
      "outputs": [
        {
          "output_type": "stream",
          "name": "stdout",
          "text": [
            "Enter a number:0\n",
            "Fail"
          ]
        }
      ]
    },
    {
      "cell_type": "code",
      "source": [
        "# Function + Percentage + Grade\n",
        "fun<-function(a,b,c){\n",
        "  tm<-a+b+c\n",
        "  per<-(tm/300)*100\n",
        "  cat(\"total marks is:\",tm,\"\\n\")\n",
        "  cat(\"percentage:\",per,\"%\",\"\\n\")\n",
        "  if(per>=85){\n",
        "    cat(\"Grade A\")\n",
        "  }else if(per>=75){\n",
        "    cat(\"Grade B\")\n",
        "  }else if(per>=65){\n",
        "    cat(\"Grade C\")\n",
        "  }else{\n",
        "    cat(\"fail\")\n",
        "  }\n",
        "}\n",
        "\n",
        "\n",
        "a<-as.numeric(readline(\"Enter maths marks:\"))\n",
        "b<-as.numeric(readline(\"Enter science marks:\"))\n",
        "c<-as.numeric(readline(\"Enter english marks:\"))\n",
        "fun(a,b,c)"
      ],
      "metadata": {
        "colab": {
          "base_uri": "https://localhost:8080/"
        },
        "id": "_Ql_QFU1iBt5",
        "outputId": "af29e412-c203-4f91-d139-08d60530676e"
      },
      "execution_count": null,
      "outputs": [
        {
          "output_type": "stream",
          "name": "stdout",
          "text": [
            "Enter maths marks:45\n",
            "Enter science marks:45\n",
            "Enter english marks:5\n",
            "total marks is: 95 \n",
            "percentage: 31.66667 % \n",
            "fail"
          ]
        }
      ]
    },
    {
      "cell_type": "code",
      "source": [
        "# Function + Percentage + Grade\n",
        "fun<-function(a,b,c,name){\n",
        "  tm<-a+b+c\n",
        "  per<-(tm/300)*100\n",
        "  cat(name)\n",
        "  cat(\"total marks is:\",tm,\"\\n\")\n",
        "  cat(\"percentage:\",per,\"%\",\"\\n\")\n",
        "  if(per>=85){\n",
        "    cat(\"Grade A\")\n",
        "  }else if(per>=75){\n",
        "    cat(\"Grade B\")\n",
        "  }else if(per>=65){\n",
        "    cat(\"Grade C\")\n",
        "  }else{\n",
        "    cat(\"fail\")\n",
        "  }\n",
        "}\n",
        "for (i in 1:3) {            # colab me loop me hi stuck ho gaya hai\n",
        "  cat(\"\\n\",\"student details\",i,\"\\n\")#but r studio me chal raha hai ye code.\n",
        "\n",
        "  name <- readline(\"Enter student name: \")\n",
        "  a<-as.numeric(readline(\"Enter maths marks:\"))\n",
        "  b<-as.numeric(readline(\"Enter science marks:\"))\n",
        "  c<-as.numeric(readline(\"Enter english marks:\"))\n",
        "  fun(a,b,c,name)\n",
        "}"
      ],
      "metadata": {
        "id": "e14jYGcU1qHr"
      },
      "execution_count": null,
      "outputs": []
    },
    {
      "cell_type": "markdown",
      "source": [
        "***File Handling***\n",
        "\n",
        "✅ CSV files\tread.csv(), read.table()\tBase R\n",
        "\n",
        "✅ Excel files\tread_excel()\treadxl or openxlsx\n",
        "\n",
        "✅ JSON files\tfromJSON()\tjsonlite\n",
        "\n",
        "✅ XML files\txmlParse()\tXML\n",
        "\n",
        "✅ Web Data\treadLines(), rvest\trvest\n",
        "\n",
        "✅ Databases\tdbConnect(), dbReadTable()\tRMySQL, RSQLite, etc."
      ],
      "metadata": {
        "id": "qMNh3ZZfM-St"
      }
    },
    {
      "cell_type": "code",
      "source": [
        "# file handling(csv.file)        # run on r studio.\n",
        "getwd()     #to know the file existences.\n",
        "setwd(\"C://Users//91620//OneDrive//Desktop\") #to set the path of file/directory\n",
        "file.exists(\"C://Users//91620//OneDrive//Desktop//file.csv\") # to check fil is exist or not\n",
        "file.exists(\"file.csv\")\n",
        "\n",
        "# Upload CSV in Colab\n",
        "from google.colab import files\n",
        "uploaded = files.upload(\"file.csv\")\n",
        "\n",
        "# This won't work in Colab directly, instead:\n",
        "\n",
        "a<-read.csv(\"C:\\\\Users\\\\91620\\\\OneDrive\\\\Desktop\\\\stud.csv\")\n",
        "print(a)\n",
        "print(ncol(a))  # to know the column\n",
        "print(nrow(a))  # to know the row\n",
        "print(fix(a))   # to rewrite the file.csv\n",
        "print(colname(a))\n",
        "print(rowname(a))\n",
        "barplot(data$Marks, names.arg = data$Name, col = \"skyblue\")"
      ],
      "metadata": {
        "colab": {
          "base_uri": "https://localhost:8080/",
          "height": 127
        },
        "id": "q7secxRh_523",
        "outputId": "6d4c6912-ee31-4482-8c13-a6a941efde31"
      },
      "execution_count": 6,
      "outputs": [
        {
          "output_type": "error",
          "ename": "ERROR",
          "evalue": "Error in parse(text = input): <text>:8:6: unexpected symbol\n7: # Upload CSV in Colab\n8: from google.colab\n        ^\n",
          "traceback": [
            "Error in parse(text = input): <text>:8:6: unexpected symbol\n7: # Upload CSV in Colab\n8: from google.colab\n        ^\nTraceback:\n"
          ]
        }
      ]
    }
  ]
}