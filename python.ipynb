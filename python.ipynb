{
  "cells": [
    {
      "cell_type": "markdown",
      "metadata": {
        "id": "view-in-github",
        "colab_type": "text"
      },
      "source": [
        "<a href=\"https://colab.research.google.com/github/MrSaurabh0028/Bca-data-science-projects/blob/main/python.ipynb\" target=\"_parent\"><img src=\"https://colab.research.google.com/assets/colab-badge.svg\" alt=\"Open In Colab\"/></a>"
      ]
    },
    {
      "cell_type": "markdown",
      "metadata": {
        "id": "yBJSlVilhKJm"
      },
      "source": [
        "      **DATA TYPE**\n",
        "1. Pre-defined function\n",
        "2. User define**"
      ]
    },
    {
      "cell_type": "code",
      "execution_count": null,
      "metadata": {
        "colab": {
          "base_uri": "https://localhost:8080/"
        },
        "collapsed": true,
        "id": "hAXRsT9DkD5F",
        "outputId": "437dd03e-9fe4-4e85-b9bf-c10395364f16"
      },
      "outputs": [
        {
          "name": "stdout",
          "output_type": "stream",
          "text": [
            "code excuted successfully 30\n",
            "<class 'int'>\n",
            "<class 'int'>\n",
            "hellow world <class 'str'>\n",
            "hellow world 136924138471024\n",
            "hellow world 10751144\n"
          ]
        }
      ],
      "source": [
        "x=10\n",
        "y=20\n",
        "a=\"hellow world\"\n",
        "z=x+y\n",
        "print(\"code excuted successfully\",z)\n",
        "print(type(x))\n",
        "print(type(z))\n",
        "print(a,type(a))\n",
        "print(a,id(a))\n",
        "print(a,id(x,))"
      ]
    },
    {
      "cell_type": "markdown",
      "metadata": {
        "id": "eGXS1mNcmIM1"
      },
      "source": [
        "** Set,List,Tuple **"
      ]
    },
    {
      "cell_type": "code",
      "execution_count": null,
      "metadata": {
        "colab": {
          "base_uri": "https://localhost:8080/"
        },
        "collapsed": true,
        "id": "zs1L2yGVmVAo",
        "outputId": "bac60296-54af-4036-b230-9d2af1f75066"
      },
      "outputs": [
        {
          "name": "stdout",
          "output_type": "stream",
          "text": [
            "<class 'list'>\n",
            "<class 'set'>\n",
            "<class 'tuple'>\n",
            "[20, 10, 40, 46, 550, 'amit', 20] 136923698849344\n",
            "{54.47, 'amit', 74, 45, 78} 136923696708544\n",
            "(45, 14, 47, 87, 89, 48, 'amit') 136923698897024\n"
          ]
        }
      ],
      "source": [
        "x=[20,10,40,46,550,\"amit\",20]\n",
        "print(type(x))\n",
        "y={54.47,74,45,78,\"amit\"}\n",
        "print(type(y))\n",
        "z=(45,14,47,87,89,48,\"amit\")\n",
        "print(type(z))\n",
        "print(x,id(x))\n",
        "print(y,id(y))\n",
        "print(z,id(z))"
      ]
    },
    {
      "cell_type": "markdown",
      "metadata": {
        "id": "iEI2uupeoPQg"
      },
      "source": [
        "**Keyworld Import**"
      ]
    },
    {
      "cell_type": "code",
      "execution_count": null,
      "metadata": {
        "colab": {
          "base_uri": "https://localhost:8080/"
        },
        "collapsed": true,
        "id": "730OpLnqoU5J",
        "outputId": "71a5beb8-accf-4228-9480-a7593ed506fa"
      },
      "outputs": [
        {
          "name": "stdout",
          "output_type": "stream",
          "text": [
            "['False', 'None', 'True', 'and', 'as', 'assert', 'async', 'await', 'break', 'class', 'continue', 'def', 'del', 'elif', 'else', 'except', 'finally', 'for', 'from', 'global', 'if', 'import', 'in', 'is', 'lambda', 'nonlocal', 'not', 'or', 'pass', 'raise', 'return', 'try', 'while', 'with', 'yield'] "
          ]
        },
        {
          "data": {
            "text/plain": [
              "35"
            ]
          },
          "execution_count": 12,
          "metadata": {},
          "output_type": "execute_result"
        }
      ],
      "source": [
        "import keyword\n",
        "keyword.kwlist\n",
        "print(keyword.kwlist,end=\" \")\n",
        "len(keyword.kwlist)"
      ]
    },
    {
      "cell_type": "markdown",
      "metadata": {
        "id": "iT5YvW0nuP5D"
      },
      "source": [
        "** Pre-define function**\n",
        "1. addition\n",
        "2.Sub\n",
        "3.Multication\n",
        "4.Devides"
      ]
    },
    {
      "cell_type": "code",
      "execution_count": null,
      "metadata": {
        "colab": {
          "base_uri": "https://localhost:8080/"
        },
        "collapsed": true,
        "id": "Jt86ABdXuk5M",
        "outputId": "71824f9b-3d80-4cef-ecf2-ac9900c56f47"
      },
      "outputs": [
        {
          "name": "stdout",
          "output_type": "stream",
          "text": [
            "Enter the value of x:20\n",
            "Enter the value of y:20\n",
            "total addition is: 40\n",
            "Total multi: 400\n",
            "Enter the value of A:4\n",
            "area of circle is: 12.56\n"
          ]
        }
      ],
      "source": [
        "x=int(input(\"Enter the value of x:\"))\n",
        "y=int(input(\"Enter the value of y:\"))\n",
        "z=x+y\n",
        "s=x*y\n",
        "print(\"total addition is:\",z)\n",
        "print(\"Total multi:\",s)\n",
        "A=int(input(\"Enter the value of A:\"))\n",
        "pi=3.14\n",
        "area=pi*A\n",
        "print(\"area of circle is:\",area)\n"
      ]
    },
    {
      "cell_type": "markdown",
      "metadata": {
        "id": "mUS25WVx1FRf"
      },
      "source": [
        "**Conditional Statement**\n",
        "1.if-statement\n",
        "\n",
        "2.elif-statement\n",
        "\n",
        "3.else-statement\n",
        "\n",
        "\n"
      ]
    },
    {
      "cell_type": "code",
      "execution_count": null,
      "metadata": {
        "colab": {
          "base_uri": "https://localhost:8080/"
        },
        "collapsed": true,
        "id": "t1nISxLuyLbx",
        "outputId": "331ebfeb-9fb5-49a5-80bc-c4565c8523ce"
      },
      "outputs": [
        {
          "name": "stdout",
          "output_type": "stream",
          "text": [
            "100 is greater.\n",
            "Enter the value of num1:20\n",
            "Enter the value of num2:20\n",
            "Both are equal.\n"
          ]
        }
      ],
      "source": [
        "# if-statement:\n",
        "x=17\n",
        "y=100\n",
        "if x>y:\n",
        "    print(x,\"is greater.\")\n",
        "else:\n",
        "  print(y,\"is greater.\")\n",
        "num1=int(input(\"Enter the value of num1:\"))\n",
        "num2=int(input(\"Enter the value of num2:\"))\n",
        "if num1>num2:\n",
        "    print(num1,\"is greater.\")\n",
        "elif num1==num2:\n",
        "    print(\"Both are equal.\")2\n",
        "else:\n",
        "    print(num2,\"is greater.\")\n",
        "\n"
      ]
    },
    {
      "cell_type": "code",
      "execution_count": null,
      "metadata": {
        "id": "dHaMSZ6u1vPX"
      },
      "outputs": [],
      "source": [
        "# positive ,negative number using if statements\n",
        "x=int(input(\"Enter a number:\"))\n",
        "if x>0 :\n",
        "    print(x,\"is Positive.\")\n",
        "elif x<0:\n",
        "    print(x,\"is Negative.\")\n",
        "else:\n",
        "  print(x,\"is not positive or negative number.\")"
      ]
    },
    {
      "cell_type": "code",
      "execution_count": null,
      "metadata": {
        "colab": {
          "base_uri": "https://localhost:8080/"
        },
        "collapsed": true,
        "id": "JFevCXS63_th",
        "outputId": "19a17c6c-2329-4b50-ba0d-a7450a6f6a9c"
      },
      "outputs": [
        {
          "name": "stdout",
          "output_type": "stream",
          "text": [
            "Enter a number:5\n",
            "5 is Odd number\n"
          ]
        }
      ],
      "source": [
        "#Even number and odd number using if statements\n",
        "x=int(input(\"Enter a number:\"))\n",
        "if x%2==0:\n",
        "  print(x,\"is Even number.\")\n",
        "else:\n",
        "  print(x,\"is Odd number\")"
      ]
    },
    {
      "cell_type": "code",
      "execution_count": null,
      "metadata": {
        "colab": {
          "base_uri": "https://localhost:8080/"
        },
        "id": "JnGMdler5RYx",
        "outputId": "ce9a7f82-15ce-4e05-a411-3a7db6432d14"
      },
      "outputs": [
        {
          "name": "stdout",
          "output_type": "stream",
          "text": [
            "Enter first number:20\n",
            "Enter second number:52\n",
            "Enter third number:56\n",
            "56 is largest\n"
          ]
        }
      ],
      "source": [
        "#compare three numbers using if statements\n",
        "x=int(input(\"Enter first number:\"))\n",
        "y=int(input(\"Enter second number:\"))\n",
        "z=int(input(\"Enter third number:\"))\n",
        "if x>y and x>z:\n",
        "    print(x,\"is largest\")\n",
        "elif y>x and y>z:\n",
        "    print(y,\"is largest\")\n",
        "else:\n",
        "    print(z,\"is largest\")"
      ]
    },
    {
      "cell_type": "markdown",
      "metadata": {
        "id": "q1CP4oyL6jMC"
      },
      "source": [
        "**Itrative Statement**\n",
        "1.for-loop\n",
        "\n",
        "2.while-loop"
      ]
    },
    {
      "cell_type": "code",
      "execution_count": null,
      "metadata": {
        "colab": {
          "base_uri": "https://localhost:8080/"
        },
        "collapsed": true,
        "id": "okAMrlDH6t1r",
        "outputId": "dc083230-8e87-4d3d-e8f3-06b0d5a8c45c"
      },
      "outputs": [
        {
          "name": "stdout",
          "output_type": "stream",
          "text": [
            "A code excuted successfully\n",
            "m code excuted successfully\n",
            "i code excuted successfully\n",
            "t code excuted successfully\n",
            "-1 code excuted successfully\n",
            "9 code excuted successfully\n",
            "19 code excuted successfully\n",
            "29 code excuted successfully\n",
            "39 code excuted successfully\n",
            "49 code excuted successfully\n",
            "59 code excuted successfully\n",
            "69 code excuted successfully\n",
            "79 code excuted successfully\n",
            "89 code excuted successfully\n"
          ]
        }
      ],
      "source": [
        "for i in\"Amit\":\n",
        "  print(i,\"code excuted successfully\",end=\"\\n\")\n",
        "for i in range(0,100,10):\n",
        "  i=i-1\n",
        "  print(i,\"code excuted successfully\")\n",
        "  #len(i)\n"
      ]
    },
    {
      "cell_type": "markdown",
      "metadata": {
        "id": "arpyleFM33Ye"
      },
      "source": [
        "Resivion class 5\n",
        "\n",
        "1.Note== **indetation==space**\n",
        "\n",
        "2.**doublee == is used to compare two objects**"
      ]
    },
    {
      "cell_type": "code",
      "execution_count": null,
      "metadata": {
        "colab": {
          "base_uri": "https://localhost:8080/"
        },
        "id": "R_fP4ptu32PD",
        "outputId": "314d18bd-b1bc-492b-e2e5-f8b4c305d863"
      },
      "outputs": [
        {
          "name": "stdout",
          "output_type": "stream",
          "text": [
            "negative number: -78\n",
            "Enter a number-20\n",
            "-20 is negative number:\n"
          ]
        }
      ],
      "source": [
        "x=-78\n",
        "if x>0:\n",
        "  print(\"positive number:\",x)\n",
        "else:\n",
        "  print(\"negative number:\",x)\n",
        "\n",
        "#user-define:\n",
        "x=int(input(\"Enter a number\"))\n",
        "if x>0:\n",
        "  print(x,\"is positive number\")\n",
        "elif x==0:\n",
        "  print(x,\"is not a negative or positive number\")\n",
        "else:\n",
        "  print(x,\"is negative number:\")"
      ]
    },
    {
      "cell_type": "code",
      "execution_count": null,
      "metadata": {
        "colab": {
          "base_uri": "https://localhost:8080/"
        },
        "id": "7zi5MIDP9T2R",
        "outputId": "ac1e00ee-952b-49cd-c60a-a71d45173b0a"
      },
      "outputs": [
        {
          "name": "stdout",
          "output_type": "stream",
          "text": [
            "Enter a number:4987\n",
            "4987.0 is odd number.\n"
          ]
        }
      ],
      "source": [
        "x=float(input(\"Enter a number:\"))\n",
        "if x%2==0:\n",
        "  print(x,\"is even number.\")\n",
        "else:\n",
        "  print(x,\"is odd number.\")"
      ]
    },
    {
      "cell_type": "code",
      "execution_count": null,
      "metadata": {
        "colab": {
          "base_uri": "https://localhost:8080/"
        },
        "id": "n1c-9ih6GbiO",
        "outputId": "3d85ab68-ff18-49f1-d901-fd77fc4e2234"
      },
      "outputs": [
        {
          "name": "stdout",
          "output_type": "stream",
          "text": [
            "Enter first number:2\n",
            "Enter second number:2\n",
            "Enter third number:2\n",
            "all are equal\n"
          ]
        }
      ],
      "source": [
        "x=int(input(\"Enter first number:\"))\n",
        "y=int(input(\"Enter second number:\"))\n",
        "z=int(input(\"Enter third number:\"))\n",
        "if x>y and x>z:\n",
        "  print(x,\"is greater number.\")\n",
        "elif y>z and y>x:\n",
        "  print(y,\"is greater number.\")\n",
        "elif x==y==z:\n",
        "  print(\"all are equal\")\n",
        "else:\n",
        "  print(z,\"is grater number.\")\n"
      ]
    },
    {
      "cell_type": "markdown",
      "metadata": {
        "id": "cWQ1kS5DIVrd"
      },
      "source": [
        "** Loop **\n",
        "\n",
        "**1.for loop**\n",
        "\n",
        "**2.while loop**\n",
        "\n"
      ]
    },
    {
      "cell_type": "code",
      "execution_count": null,
      "metadata": {
        "colab": {
          "base_uri": "https://localhost:8080/"
        },
        "collapsed": true,
        "id": "XoPOS14-JAuk",
        "outputId": "eb6cc9bf-44bb-4e2f-8348-a8de45b5850e"
      },
      "outputs": [
        {
          "name": "stdout",
          "output_type": "stream",
          "text": [
            "amit012341 \n",
            "3 \n",
            "5 \n",
            "7 \n",
            "9 \n",
            "11 \n",
            "13 \n",
            "15 \n",
            "17 \n",
            "19 \n",
            "21 \n",
            "23 \n",
            "25 \n",
            "27 \n",
            "29 \n",
            "31 \n",
            "33 \n",
            "35 \n",
            "37 \n",
            "39 \n",
            "41 \n",
            "43 \n",
            "45 \n",
            "47 \n",
            "49 \n",
            "51 \n",
            "53 \n",
            "55 \n",
            "57 \n",
            "59 \n",
            "61 \n",
            "63 \n",
            "65 \n",
            "67 \n",
            "69 \n",
            "71 \n",
            "73 \n",
            "75 \n",
            "77 \n",
            "79 \n",
            "81 \n",
            "83 \n",
            "85 \n",
            "87 \n",
            "89 \n",
            "91 \n",
            "93 \n",
            "95 \n",
            "97 \n",
            "99 \n",
            "hello hello hello hello hello hello hello hello hello hello hello hello hello hello hello hello hello hello hello hello hello hello hello hello hello hello hello hello hello hello hello hello hello hello hello hello hello hello hello hello hello hello hello hello hello hello hello hello hello hello hello hello hello hello hello hello hello hello hello hello hello hello hello hello hello hello hello hello hello hello hello hello hello hello hello hello hello hello hello hello hello hello hello hello hello hello hello hello hello hello hello hello hello hello hello hello hello hello hello hello "
          ]
        }
      ],
      "source": [
        "for i in \"amit\":\n",
        "  print(i,end=\"\")\n",
        "\n",
        "for i in range (5):\n",
        "  print(i,end=\"\")\n",
        "\n",
        "#print odd number\n",
        "z=0\n",
        "for i in range(1,100,2):\n",
        "  print(i,end=\" \",)\n",
        "  print()\n",
        "for i in range (100):\n",
        "  print(\"hello\",end=\" \")\n"
      ]
    },
    {
      "cell_type": "markdown",
      "metadata": {
        "id": "njF6nwdKXXkc"
      },
      "source": [
        "**for loop**"
      ]
    },
    {
      "cell_type": "code",
      "execution_count": null,
      "metadata": {
        "colab": {
          "base_uri": "https://localhost:8080/"
        },
        "id": "nwJr-Y2RVt-c",
        "outputId": "912ca9a5-524c-401e-b19c-4d5cda8c45e4"
      },
      "outputs": [
        {
          "name": "stdout",
          "output_type": "stream",
          "text": [
            "A A A A A B\n",
            "A A A A A B\n",
            "A A A A A B\n",
            "A A A A A B\n",
            "A A A A A B\n"
          ]
        }
      ],
      "source": [
        "for i in range (-12,-7):\n",
        "  for j in range(-3,2):\n",
        "    print(\"A\",end=\" \")\n",
        "  print(\"B\")"
      ]
    },
    {
      "cell_type": "markdown",
      "metadata": {
        "id": "DKimxDrNXPjN"
      },
      "source": [
        "\n",
        "\n",
        "**1.while loop**"
      ]
    },
    {
      "cell_type": "code",
      "execution_count": null,
      "metadata": {
        "colab": {
          "base_uri": "https://localhost:8080/"
        },
        "id": "-_CY4mOCXWJ0",
        "outputId": "540d446a-93d6-4cff-b99e-93eb4e6b683c"
      },
      "outputs": [
        {
          "output_type": "stream",
          "name": "stdout",
          "text": [
            "x x x x x x x x x x "
          ]
        }
      ],
      "source": [
        "x=20\n",
        "while x<30:\n",
        "  print(\"x\",end=\" \")\n",
        "  x=x+1"
      ]
    },
    {
      "cell_type": "code",
      "source": [
        "#for loop & if statements:\n",
        "for i in range(5):\n",
        "  if i==3:\n",
        "   print(\"A\")\n",
        "  else:\n",
        "   print(\"B\")"
      ],
      "metadata": {
        "id": "L5W5bJJJgs35",
        "outputId": "8f7676f8-aa20-446a-8cb0-02b7010afa98",
        "colab": {
          "base_uri": "https://localhost:8080/"
        }
      },
      "execution_count": null,
      "outputs": [
        {
          "output_type": "stream",
          "name": "stdout",
          "text": [
            "B\n",
            "B\n",
            "B\n",
            "A\n",
            "B\n"
          ]
        }
      ]
    },
    {
      "cell_type": "markdown",
      "source": [],
      "metadata": {
        "id": "Dwhm4NUtXtan"
      }
    },
    {
      "cell_type": "code",
      "source": [
        "pin=4567\n",
        "cb=10500\n",
        "for i in range(3):\n",
        "  p=int(input(\"Enter pin number:\"))\n",
        "  if (p==pin):\n",
        "    print(\"correct pin\")\n",
        "    wb=int(input(\"Enter amount:\"))\n",
        "    if(cb>wb):\n",
        "      cb=cb-wb\n",
        "      print(\"Transection successful.\")\n",
        "    else:\n",
        "      print(\"Insufficient balance\")\n",
        "\n",
        "    break\n",
        "  else:\n",
        "    print(\"Incorrect pin number\")\n",
        "else:\n",
        "    print(\"card block\")"
      ],
      "metadata": {
        "colab": {
          "base_uri": "https://localhost:8080/"
        },
        "id": "0mGCX-OhXwae",
        "outputId": "8e7e7b88-ab5d-403c-f31a-0d1eba1ed2d8"
      },
      "execution_count": null,
      "outputs": [
        {
          "output_type": "stream",
          "name": "stdout",
          "text": [
            "Enter pin number:12345\n",
            "Incorrect pin number\n",
            "Enter pin number:123478\n",
            "Incorrect pin number\n",
            "Enter pin number:4567\n",
            "correct pin\n",
            "Enter amount:2000\n",
            "Transection successful.\n"
          ]
        }
      ]
    },
    {
      "cell_type": "code",
      "source": [
        "p=123\n",
        "cb=10000\n",
        "for i in range(1):\n",
        "  pin=int(input(\"Enter pin number:\"))\n",
        "  if p==pin:\n",
        "    print(\"correct pin.\")\n",
        "    wb=int(input(\"Enter amount to Withdraw:\"))\n",
        "    if(cb>wb):\n",
        "     cb=cb-wb\n",
        "    print(\"transition successful.\")\n",
        "    print(\"remaining amount:\",cb)\n",
        "\n",
        "    break\n",
        "  else:\n",
        "    print(\"incorrect pin\")\n",
        "else:\n",
        "  print(\"Card block\")"
      ],
      "metadata": {
        "colab": {
          "base_uri": "https://localhost:8080/"
        },
        "id": "Ls4Q_kU5cnFk",
        "outputId": "d0aeee87-d7a1-48cd-b398-254c70b571a0"
      },
      "execution_count": null,
      "outputs": [
        {
          "output_type": "stream",
          "name": "stdout",
          "text": [
            "Enter pin number:144\n",
            "incorrect pin\n",
            "Card block\n"
          ]
        }
      ]
    },
    {
      "cell_type": "markdown",
      "source": [
        "                             **List**\n",
        "                             "
      ],
      "metadata": {
        "id": "KFjie8vpgJQT"
      }
    },
    {
      "cell_type": "code",
      "source": [
        "x=[20,60,41,41,\"Amit\",51,451,54]\n",
        "print(x)\n",
        "print(x[4])"
      ],
      "metadata": {
        "colab": {
          "base_uri": "https://localhost:8080/"
        },
        "id": "115G9otkhfX2",
        "outputId": "aad2f202-d844-4c6b-e004-52a9a3e26ad3"
      },
      "execution_count": 8,
      "outputs": [
        {
          "output_type": "stream",
          "name": "stdout",
          "text": [
            "[20, 60, 41, 41, 'Amit', 51, 451, 54]\n",
            "Amit\n"
          ]
        }
      ]
    },
    {
      "cell_type": "code",
      "source": [
        "x=[10,20,30,40,50,60]\n",
        "x.append(100)         #last me add karta haii object kooo.\n",
        "x.insert(1,452)       #add poisiton wise/inexing wise object allocation\n",
        "for i in x:\n",
        "  print(i,\"A\")\n"
      ],
      "metadata": {
        "colab": {
          "base_uri": "https://localhost:8080/"
        },
        "id": "a-rQwyeSjdU_",
        "outputId": "9180cff5-70cf-44d1-d5d2-e5b05fba1b03"
      },
      "execution_count": 19,
      "outputs": [
        {
          "output_type": "stream",
          "name": "stdout",
          "text": [
            "10 A\n",
            "452 A\n",
            "20 A\n",
            "30 A\n",
            "40 A\n",
            "50 A\n",
            "60 A\n",
            "100 A\n"
          ]
        }
      ]
    },
    {
      "cell_type": "code",
      "source": [
        "  #Slicing operator\n",
        "x=[10,20,30,40,50,60,70,80,90,100]\n",
        "x[2:7]\n",
        "x[1:9:2]"
      ],
      "metadata": {
        "colab": {
          "base_uri": "https://localhost:8080/"
        },
        "id": "yFm-VehPnXgA",
        "outputId": "454c784b-375a-4b06-bc98-92fde5cddc2d"
      },
      "execution_count": 28,
      "outputs": [
        {
          "output_type": "execute_result",
          "data": {
            "text/plain": [
              "[20, 40, 60, 80]"
            ]
          },
          "metadata": {},
          "execution_count": 28
        }
      ]
    },
    {
      "cell_type": "markdown",
      "source": [
        "      Question\n",
        "1) sum of digits\n",
        "\n",
        "2) sum of odd digits\n",
        "\n",
        "3) reverse number\n",
        "\n",
        "4) lcm/hcf\n",
        "\n",
        "5) prime number\n",
        "\n",
        "6) fibonaccci number\n"
      ],
      "metadata": {
        "id": "TmcpIWtcp2HS"
      }
    },
    {
      "cell_type": "code",
      "source": [
        "#  Tupple\n",
        "t=(12,14,45,54,78,54,45)\n",
        "print(type(t))\n",
        "\n",
        "t3=(45)\n",
        "print(type(t3))\n",
        "\n",
        "t4=(912,)\n",
        "print(type(t4))"
      ],
      "metadata": {
        "colab": {
          "base_uri": "https://localhost:8080/"
        },
        "id": "plbKbO79qUYR",
        "outputId": "6ced4c3f-2c2e-4cdd-b109-1dad622e3a7a"
      },
      "execution_count": 13,
      "outputs": [
        {
          "output_type": "stream",
          "name": "stdout",
          "text": [
            "<class 'tuple'>\n",
            "<class 'int'>\n",
            "<class 'tuple'>\n"
          ]
        }
      ]
    }
  ],
  "metadata": {
    "colab": {
      "provenance": [],
      "authorship_tag": "ABX9TyOjDXeYTAT9/9flemvCWQan",
      "include_colab_link": true
    },
    "kernelspec": {
      "display_name": "Python 3",
      "name": "python3"
    },
    "language_info": {
      "name": "python"
    }
  },
  "nbformat": 4,
  "nbformat_minor": 0
}