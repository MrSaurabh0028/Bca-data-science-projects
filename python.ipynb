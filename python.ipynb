{
  "nbformat": 4,
  "nbformat_minor": 0,
  "metadata": {
    "colab": {
      "provenance": [],
      "authorship_tag": "ABX9TyM/32wYNZ5h1a1rPGTrf4nT",
      "include_colab_link": true
    },
    "kernelspec": {
      "name": "python3",
      "display_name": "Python 3"
    },
    "language_info": {
      "name": "python"
    }
  },
  "cells": [
    {
      "cell_type": "markdown",
      "metadata": {
        "id": "view-in-github",
        "colab_type": "text"
      },
      "source": [
        "<a href=\"https://colab.research.google.com/github/MrSaurabh0028/Bca-data-science-projects/blob/main/python.ipynb\" target=\"_parent\"><img src=\"https://colab.research.google.com/assets/colab-badge.svg\" alt=\"Open In Colab\"/></a>"
      ]
    },
    {
      "cell_type": "markdown",
      "source": [
        "      **DATA TYPE**\n",
        "1. Pre-defined function\n",
        "2. User define**"
      ],
      "metadata": {
        "id": "yBJSlVilhKJm"
      }
    },
    {
      "cell_type": "code",
      "source": [
        "x=10\n",
        "y=20\n",
        "a=\"hellow world\"\n",
        "z=x+y\n",
        "print(\"code excuted successfully\",z)\n",
        "print(type(x))\n",
        "print(type(z))\n",
        "print(a,type(a))\n",
        "print(a,id(a))\n",
        "print(a,id(x,))"
      ],
      "metadata": {
        "colab": {
          "base_uri": "https://localhost:8080/"
        },
        "collapsed": true,
        "id": "hAXRsT9DkD5F",
        "outputId": "437dd03e-9fe4-4e85-b9bf-c10395364f16"
      },
      "execution_count": null,
      "outputs": [
        {
          "output_type": "stream",
          "name": "stdout",
          "text": [
            "code excuted successfully 30\n",
            "<class 'int'>\n",
            "<class 'int'>\n",
            "hellow world <class 'str'>\n",
            "hellow world 136924138471024\n",
            "hellow world 10751144\n"
          ]
        }
      ]
    },
    {
      "cell_type": "markdown",
      "source": [
        "** Set,List,Tuple **"
      ],
      "metadata": {
        "id": "eGXS1mNcmIM1"
      }
    },
    {
      "cell_type": "code",
      "source": [
        "x=[20,10,40,46,550,\"amit\",20]\n",
        "print(type(x))\n",
        "y={54.47,74,45,78,\"amit\"}\n",
        "print(type(y))\n",
        "z=(45,14,47,87,89,48,\"amit\")\n",
        "print(type(z))\n",
        "print(x,id(x))\n",
        "print(y,id(y))\n",
        "print(z,id(z))"
      ],
      "metadata": {
        "colab": {
          "base_uri": "https://localhost:8080/"
        },
        "collapsed": true,
        "id": "zs1L2yGVmVAo",
        "outputId": "bac60296-54af-4036-b230-9d2af1f75066"
      },
      "execution_count": null,
      "outputs": [
        {
          "output_type": "stream",
          "name": "stdout",
          "text": [
            "<class 'list'>\n",
            "<class 'set'>\n",
            "<class 'tuple'>\n",
            "[20, 10, 40, 46, 550, 'amit', 20] 136923698849344\n",
            "{54.47, 'amit', 74, 45, 78} 136923696708544\n",
            "(45, 14, 47, 87, 89, 48, 'amit') 136923698897024\n"
          ]
        }
      ]
    },
    {
      "cell_type": "markdown",
      "source": [
        "**Keyworld Import**"
      ],
      "metadata": {
        "id": "iEI2uupeoPQg"
      }
    },
    {
      "cell_type": "code",
      "source": [
        "import keyword\n",
        "keyword.kwlist\n",
        "print(keyword.kwlist,end=\" \")\n",
        "len(keyword.kwlist)"
      ],
      "metadata": {
        "colab": {
          "base_uri": "https://localhost:8080/"
        },
        "collapsed": true,
        "id": "730OpLnqoU5J",
        "outputId": "71a5beb8-accf-4228-9480-a7593ed506fa"
      },
      "execution_count": null,
      "outputs": [
        {
          "output_type": "stream",
          "name": "stdout",
          "text": [
            "['False', 'None', 'True', 'and', 'as', 'assert', 'async', 'await', 'break', 'class', 'continue', 'def', 'del', 'elif', 'else', 'except', 'finally', 'for', 'from', 'global', 'if', 'import', 'in', 'is', 'lambda', 'nonlocal', 'not', 'or', 'pass', 'raise', 'return', 'try', 'while', 'with', 'yield'] "
          ]
        },
        {
          "output_type": "execute_result",
          "data": {
            "text/plain": [
              "35"
            ]
          },
          "metadata": {},
          "execution_count": 12
        }
      ]
    },
    {
      "cell_type": "markdown",
      "source": [
        "** Pre-define function**\n",
        "1. addition\n",
        "2.Sub\n",
        "3.Multication\n",
        "4.Devides"
      ],
      "metadata": {
        "id": "iT5YvW0nuP5D"
      }
    },
    {
      "cell_type": "code",
      "source": [
        "x=int(input(\"Enter the value of x:\"))\n",
        "y=int(input(\"Enter the value of y:\"))\n",
        "z=x+y\n",
        "s=x*y\n",
        "print(\"total addition is:\",z)\n",
        "print(\"Total multi:\",s)\n",
        "A=int(input(\"Enter the value of A:\"))\n",
        "pi=3.14\n",
        "area=pi*A\n",
        "print(\"area of circle is:\",area)\n"
      ],
      "metadata": {
        "colab": {
          "base_uri": "https://localhost:8080/"
        },
        "collapsed": true,
        "id": "Jt86ABdXuk5M",
        "outputId": "71824f9b-3d80-4cef-ecf2-ac9900c56f47"
      },
      "execution_count": null,
      "outputs": [
        {
          "output_type": "stream",
          "name": "stdout",
          "text": [
            "Enter the value of x:20\n",
            "Enter the value of y:20\n",
            "total addition is: 40\n",
            "Total multi: 400\n",
            "Enter the value of A:4\n",
            "area of circle is: 12.56\n"
          ]
        }
      ]
    },
    {
      "cell_type": "markdown",
      "source": [
        "**Conditional Statement**\n",
        "1.if-statement\n",
        "2.elif-statement\n",
        "3.else-statement\n",
        "\n",
        "\n"
      ],
      "metadata": {
        "id": "mUS25WVx1FRf"
      }
    },
    {
      "cell_type": "code",
      "source": [
        "# if-statement:\n",
        "x=17\n",
        "y=100\n",
        "if x>y:\n",
        "    print(x,\"is greater.\")\n",
        "else:\n",
        "  print(y,\"is greater.\")\n",
        "num1=int(input(\"Enter the value of num1:\"))\n",
        "num2=int(input(\"Enter the value of num2:\"))\n",
        "if num1>num2:\n",
        "    print(num1,\"is greater.\")\n",
        "elif num1==num2:\n",
        "    print(\"Both are equal.\")2\n",
        "else:\n",
        "    print(num2,\"is greater.\")\n",
        "\n"
      ],
      "metadata": {
        "colab": {
          "base_uri": "https://localhost:8080/"
        },
        "collapsed": true,
        "id": "t1nISxLuyLbx",
        "outputId": "331ebfeb-9fb5-49a5-80bc-c4565c8523ce"
      },
      "execution_count": null,
      "outputs": [
        {
          "output_type": "stream",
          "name": "stdout",
          "text": [
            "100 is greater.\n",
            "Enter the value of num1:20\n",
            "Enter the value of num2:20\n",
            "Both are equal.\n"
          ]
        }
      ]
    },
    {
      "cell_type": "code",
      "source": [
        "# positive ,negative number using if statements\n",
        "x=int(input(\"Enter a number:\"))\n",
        "if x>0 :\n",
        "    print(x,\"is Positive.\")\n",
        "elif x<0:\n",
        "    print(x,\"is Negative.\")\n",
        "else:\n",
        "  print(x,\"is not positive or negative number.\")"
      ],
      "metadata": {
        "colab": {
          "base_uri": "https://localhost:8080/"
        },
        "collapsed": true,
        "id": "dHaMSZ6u1vPX",
        "outputId": "cb8e2cbb-9ecc-4bae-f6e0-99fa85c44696"
      },
      "execution_count": null,
      "outputs": [
        {
          "output_type": "stream",
          "name": "stdout",
          "text": [
            "Enter a number:0\n",
            "0 is not positive or negative number.\n"
          ]
        }
      ]
    },
    {
      "cell_type": "code",
      "source": [
        "#Even number and odd number using if statements\n",
        "x=int(input(\"Enter a number:\"))\n",
        "if x%2==0:\n",
        "  print(x,\"is Even number.\")\n",
        "else:\n",
        "  print(x,\"is Odd number\")"
      ],
      "metadata": {
        "colab": {
          "base_uri": "https://localhost:8080/"
        },
        "collapsed": true,
        "id": "JFevCXS63_th",
        "outputId": "19a17c6c-2329-4b50-ba0d-a7450a6f6a9c"
      },
      "execution_count": null,
      "outputs": [
        {
          "output_type": "stream",
          "name": "stdout",
          "text": [
            "Enter a number:5\n",
            "5 is Odd number\n"
          ]
        }
      ]
    },
    {
      "cell_type": "code",
      "source": [
        "#compare three numbers using if statements\n",
        "x=int(input(\"Enter first number:\"))\n",
        "y=int(input(\"Enter second number:\"))\n",
        "z=int(input(\"Enter third number:\"))\n",
        "if x>y and x>z:\n",
        "    print(x,\"is largest\")\n",
        "elif y>x and y>z:\n",
        "    print(y,\"is largest\")\n",
        "else:\n",
        "    print(z,\"is largest\")"
      ],
      "metadata": {
        "colab": {
          "base_uri": "https://localhost:8080/"
        },
        "collapsed": true,
        "id": "JnGMdler5RYx",
        "outputId": "72831a76-d4da-4c27-e4a8-50194423b618"
      },
      "execution_count": null,
      "outputs": [
        {
          "output_type": "stream",
          "name": "stdout",
          "text": [
            "Enter first number:78\n",
            "Enter second number:5\n",
            "Enter third number:2\n",
            "78 is largest\n"
          ]
        }
      ]
    },
    {
      "cell_type": "markdown",
      "source": [
        "**Itrative Statement**\n",
        "1.for-loop\n",
        "2.while-loop"
      ],
      "metadata": {
        "id": "q1CP4oyL6jMC"
      }
    },
    {
      "cell_type": "code",
      "source": [
        "for i in\"Amit\":\n",
        "  print(i,\"code excuted successfully\",end=\"\\n\")\n",
        "for i in range(0,100,10):\n",
        "  i=i-1\n",
        "  print(i,\"code excuted successfully\")\n",
        "  #len(i)\n"
      ],
      "metadata": {
        "colab": {
          "base_uri": "https://localhost:8080/"
        },
        "id": "okAMrlDH6t1r",
        "outputId": "dc083230-8e87-4d3d-e8f3-06b0d5a8c45c"
      },
      "execution_count": null,
      "outputs": [
        {
          "output_type": "stream",
          "name": "stdout",
          "text": [
            "A code excuted successfully\n",
            "m code excuted successfully\n",
            "i code excuted successfully\n",
            "t code excuted successfully\n",
            "-1 code excuted successfully\n",
            "9 code excuted successfully\n",
            "19 code excuted successfully\n",
            "29 code excuted successfully\n",
            "39 code excuted successfully\n",
            "49 code excuted successfully\n",
            "59 code excuted successfully\n",
            "69 code excuted successfully\n",
            "79 code excuted successfully\n",
            "89 code excuted successfully\n"
          ]
        }
      ]
    }
  ]
}